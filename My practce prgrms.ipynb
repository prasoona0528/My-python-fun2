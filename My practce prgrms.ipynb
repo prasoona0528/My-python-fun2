{
 "cells": [
  {
   "cell_type": "code",
   "execution_count": 1,
   "id": "9ec77d78",
   "metadata": {},
   "outputs": [
    {
     "name": "stdout",
     "output_type": "stream",
     "text": [
      "hi everyone\n"
     ]
    }
   ],
   "source": [
    "print(\"hi everyone\")"
   ]
  },
  {
   "cell_type": "code",
   "execution_count": 2,
   "id": "7a190a7e",
   "metadata": {},
   "outputs": [
    {
     "name": "stdout",
     "output_type": "stream",
     "text": [
      "Welcome to python fundamentals\n"
     ]
    }
   ],
   "source": [
    "print(\"Welcome to python fundamentals\")"
   ]
  },
  {
   "cell_type": "code",
   "execution_count": 3,
   "id": "36f6fdf1",
   "metadata": {},
   "outputs": [
    {
     "name": "stdout",
     "output_type": "stream",
     "text": [
      "Today we are going to learn about python programs\n"
     ]
    }
   ],
   "source": [
    "print(\"Today we are going to learn about python programs\")"
   ]
  },
  {
   "cell_type": "code",
   "execution_count": 4,
   "id": "eba0f957",
   "metadata": {},
   "outputs": [
    {
     "name": "stdout",
     "output_type": "stream",
     "text": [
      "Hello\n"
     ]
    }
   ],
   "source": [
    "print(\"Hello\")"
   ]
  },
  {
   "cell_type": "code",
   "execution_count": null,
   "id": "350f49b8",
   "metadata": {},
   "outputs": [],
   "source": [
    "!python"
   ]
  },
  {
   "cell_type": "code",
   "execution_count": null,
   "id": "53ed0167",
   "metadata": {},
   "outputs": [],
   "source": [
    "print(\"Hi\")"
   ]
  },
  {
   "cell_type": "code",
   "execution_count": null,
   "id": "c6d987c7",
   "metadata": {},
   "outputs": [],
   "source": [
    "!python -V"
   ]
  },
  {
   "cell_type": "code",
   "execution_count": null,
   "id": "6bbc1d81",
   "metadata": {},
   "outputs": [],
   "source": [
    "!pip  -V"
   ]
  },
  {
   "cell_type": "code",
   "execution_count": null,
   "id": "bdbb3fd4",
   "metadata": {},
   "outputs": [],
   "source": []
  }
 ],
 "metadata": {
  "kernelspec": {
   "display_name": "Python 3 (ipykernel)",
   "language": "python",
   "name": "python3"
  },
  "language_info": {
   "codemirror_mode": {
    "name": "ipython",
    "version": 3
   },
   "file_extension": ".py",
   "mimetype": "text/x-python",
   "name": "python",
   "nbconvert_exporter": "python",
   "pygments_lexer": "ipython3",
   "version": "3.11.5"
  }
 },
 "nbformat": 4,
 "nbformat_minor": 5
}
